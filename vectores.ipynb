{
  "nbformat": 4,
  "nbformat_minor": 0,
  "metadata": {
    "colab": {
      "provenance": [],
      "authorship_tag": "ABX9TyPPpsI/DLU+BQNxBuM1muFs",
      "include_colab_link": true
    },
    "kernelspec": {
      "name": "python3",
      "display_name": "Python 3"
    },
    "language_info": {
      "name": "python"
    }
  },
  "cells": [
    {
      "cell_type": "markdown",
      "metadata": {
        "id": "view-in-github",
        "colab_type": "text"
      },
      "source": [
        "<a href=\"https://colab.research.google.com/github/itging/Arreglos_12_08_2025/blob/main/vectores.ipynb\" target=\"_parent\"><img src=\"https://colab.research.google.com/assets/colab-badge.svg\" alt=\"Open In Colab\"/></a>"
      ]
    },
    {
      "cell_type": "code",
      "execution_count": null,
      "metadata": {
        "id": "AtCxJ485U8j1"
      },
      "outputs": [],
      "source": []
    },
    {
      "cell_type": "markdown",
      "source": [
        "Los vectores son reserva de memoria para almacenar información, solo puede ser de un tipo, si es numerico, es numerico, si es texto, debe continuar siendo texto, esto aplica para las matrices.\n",
        "Los arreglos son identificadores  estaticos, esto significa que es otra forma de definir, variables y constantes.\n",
        "\n"
      ],
      "metadata": {
        "id": "1OPhFr1GU_8S"
      }
    },
    {
      "cell_type": "code",
      "source": [
        "import numpy as np\n",
        "vector = np.array([1, 2, 3, 4, 5])\n",
        "print(vector) #imprimimos el vector\n",
        "# quiero imprimir el tercer elemento del vector\n",
        "print(vector[2]) #imprimimos el tercer elemento del vector\n",
        "\"\"\"Los vectores no son las listas, no tienen un metodo append() para elementos\n",
        "no tienen un metodo pop() para eliminar elementos, pero si tienen un metodo reshape()\n",
        "para cambiar su forma, adicionalmnte despues creado no se puede cambiar el tamaño del vector\"\"\"\n",
        "\n",
        "\n",
        "vector1 =np.zeros(5)# Creamos un vector de ceros\n",
        "print(vector1)\n",
        "vector2 =np.ones(5)\n",
        "print(vector2)\n",
        "vector3 = np.arange(1,5,100)\n",
        "print(\"rango\",vector3)\n",
        "vector4 =np.linspace(1,10,5)\n",
        "print(\"Vectores de rango con 5 elementos\", vector4)\n",
        "vector5 =np.random.rand(10)\n",
        "print(\"Numero aleatorio: \",vector5)\n",
        "vector6 =np.random.randint(1,10,10)\n",
        "print(\"Vector de numeros aleatorios entre 1 y 10: \", vector6)"
      ],
      "metadata": {
        "id": "DdZRFUBzWINT"
      },
      "execution_count": null,
      "outputs": []
    }
  ]
}